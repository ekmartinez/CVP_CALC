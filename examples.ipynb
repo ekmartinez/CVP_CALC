{
 "cells": [
  {
   "cell_type": "code",
   "execution_count": null,
   "metadata": {},
   "outputs": [],
   "source": [
    "from cvp_calc import Cvp_calc\n",
    "import pandas as pd"
   ]
  },
  {
   "cell_type": "markdown",
   "metadata": {},
   "source": [
    "### Question # 3010 | Blueprint Area: 5 B i : Cost Measurement Concepts, Methods and Techniques\n",
    "\n",
    "MultiCo has the following sales mix:"
   ]
  },
  {
   "cell_type": "code",
   "execution_count": 2,
   "metadata": {},
   "outputs": [
    {
     "data": {
      "text/html": [
       "<div>\n",
       "<style scoped>\n",
       "    .dataframe tbody tr th:only-of-type {\n",
       "        vertical-align: middle;\n",
       "    }\n",
       "\n",
       "    .dataframe tbody tr th {\n",
       "        vertical-align: top;\n",
       "    }\n",
       "\n",
       "    .dataframe thead th {\n",
       "        text-align: right;\n",
       "    }\n",
       "</style>\n",
       "<table border=\"1\" class=\"dataframe\">\n",
       "  <thead>\n",
       "    <tr style=\"text-align: right;\">\n",
       "      <th></th>\n",
       "      <th>Product</th>\n",
       "      <th>Sales price</th>\n",
       "      <th>Variable costs</th>\n",
       "      <th>Fixed costs</th>\n",
       "      <th>%Sold</th>\n",
       "    </tr>\n",
       "  </thead>\n",
       "  <tbody>\n",
       "    <tr>\n",
       "      <th>0</th>\n",
       "      <td>Shoes</td>\n",
       "      <td>100</td>\n",
       "      <td>25</td>\n",
       "      <td>40</td>\n",
       "      <td>0.3</td>\n",
       "    </tr>\n",
       "    <tr>\n",
       "      <th>1</th>\n",
       "      <td>Swimsuits</td>\n",
       "      <td>50</td>\n",
       "      <td>10</td>\n",
       "      <td>20</td>\n",
       "      <td>0.5</td>\n",
       "    </tr>\n",
       "    <tr>\n",
       "      <th>2</th>\n",
       "      <td>Hats</td>\n",
       "      <td>40</td>\n",
       "      <td>5</td>\n",
       "      <td>5</td>\n",
       "      <td>0.2</td>\n",
       "    </tr>\n",
       "  </tbody>\n",
       "</table>\n",
       "</div>"
      ],
      "text/plain": [
       "     Product  Sales price  Variable costs  Fixed costs  %Sold\n",
       "0      Shoes          100              25           40    0.3\n",
       "1  Swimsuits           50              10           20    0.5\n",
       "2       Hats           40               5            5    0.2"
      ]
     },
     "execution_count": 2,
     "metadata": {},
     "output_type": "execute_result"
    }
   ],
   "source": [
    "sales_mix = pd.DataFrame([[\"Shoes\", 100, 25, 40, .30],\n",
    "                        [\"Swimsuits\", 50, 10, 20, .50],\n",
    "                        [\"Hats\", 40, 5, 5, .20]],\n",
    "                        columns=[\"Product\", \"Sales price\", \"Variable costs\", \"Fixed costs\", \"%Sold\"])\n",
    "sales_mix\n"
   ]
  },
  {
   "cell_type": "markdown",
   "metadata": {},
   "source": [
    "What amount is MultiCo's weighted average contribution margin per unit?"
   ]
  },
  {
   "cell_type": "code",
   "execution_count": 3,
   "metadata": {},
   "outputs": [
    {
     "data": {
      "text/plain": [
       "'The weighted average contribution margin per unit is $49.50'"
      ]
     },
     "execution_count": 3,
     "metadata": {},
     "output_type": "execute_result"
    }
   ],
   "source": [
    "sales_mix[\"CM\"] = (sales_mix[\"Sales price\"] - sales_mix[\"Variable costs\"]) * sales_mix[\"%Sold\"] \n",
    "result = sales_mix[\"CM\"].sum()\n",
    "result = f'The weighted average contribution margin per unit is ${result:.2f}'\n",
    "result\n"
   ]
  },
  {
   "cell_type": "markdown",
   "metadata": {},
   "source": [
    "----------------------------------------------------------------------------------------------------------------------------"
   ]
  },
  {
   "cell_type": "markdown",
   "metadata": {},
   "source": [
    "### Question # 627 | Blueprint Area: 5 B i : Cost Measurement Concepts, Methods and Techniques\n",
    "\n",
    "Slick Co. sells radios for $30 each. Fixed expenses total $15,000. Variable expenses are $20 per unit. What total dollar amount must Slick sell to break even?"
   ]
  },
  {
   "cell_type": "code",
   "execution_count": 6,
   "metadata": {},
   "outputs": [
    {
     "data": {
      "text/plain": [
       "'The total dollar amount that Slick must sell to break even is $45,000'"
      ]
     },
     "execution_count": 6,
     "metadata": {},
     "output_type": "execute_result"
    }
   ],
   "source": [
    "bv_dollars = Cvp_calc(30, 20, 15000)\n",
    "answer = bv_dollars.break_even_dollars()\n",
    "answer = f'The total dollar amount that Slick must sell to break even is ${answer:,.0f}'\n",
    "answer\n"
   ]
  },
  {
   "cell_type": "markdown",
   "metadata": {},
   "source": [
    "---------------------------------------------------------------------------------------------------------------------"
   ]
  },
  {
   "cell_type": "markdown",
   "metadata": {},
   "source": [
    "### Question # 666 | Blueprint Area: 5 B i : Cost Measurement Concepts, Methods and Techniques\n",
    "\n",
    "Black Co.'s breakeven point was $780,000. Variable expenses averaged 60% of sales, and the margin of safety was $130,000. What was Black's contribution margin?"
   ]
  },
  {
   "cell_type": "code",
   "execution_count": 9,
   "metadata": {},
   "outputs": [
    {
     "data": {
      "text/plain": [
       "\"Black's contribution margin is $364,000\""
      ]
     },
     "execution_count": 9,
     "metadata": {},
     "output_type": "execute_result"
    }
   ],
   "source": [
    "bv_point = 780000\n",
    "marg_safety = 130000\n",
    "sales = bv_point + marg_safety\n",
    "cm_pct = 1 - .60\n",
    "cm = sales * cm_pct\n",
    "cm = f\"Black's contribution margin is ${cm:,.0f}\"\n",
    "cm"
   ]
  },
  {
   "cell_type": "markdown",
   "metadata": {},
   "source": [
    "Explanation:  In order to solve this problem, first solve for sales which is the break even point (given) plus the margin of safety (given).  Then solve for the contribution margin percentage which is 1 minus variable expenses (given).  The contribution margin is sales multiplyied by the contribution margin percentage.\n",
    "\n",
    "The margin of safety (M/S) can be defined as the excess of budgeted (or actual) sales over the break-even volume\n",
    "of sales. It states the amount by which sales can drop before losses begin to be incurred in an organization. The\n",
    "M/S can also be expressed in percentage form. This percentage is obtained by dividing the M/S in dollar terms by\n",
    "total sales."
   ]
  },
  {
   "cell_type": "markdown",
   "metadata": {},
   "source": [
    "------------------------------------------"
   ]
  },
  {
   "cell_type": "markdown",
   "metadata": {},
   "source": [
    "### Question # 652 | Blueprint Area: 5 B i : Cost Measurement Concepts, Methods and Techniques\n",
    "\n",
    "The following information pertains to Casa Co.'s cost-volume-profit relationships:\n",
    "\n",
    "Break-even point in units sold \t    1,000\n",
    "\n",
    "Variable costs per unit \t        $ 500\n",
    "\n",
    "Total fixed costs \t            $ 300,000\n",
    "\n",
    "How much will be contributed to profit before income taxes by the 1,001st unit sold?"
   ]
  },
  {
   "cell_type": "code",
   "execution_count": 11,
   "metadata": {},
   "outputs": [
    {
     "data": {
      "text/plain": [
       "'Profit before tax contributed before 1,001st unit is sold is $300'"
      ]
     },
     "execution_count": 11,
     "metadata": {},
     "output_type": "execute_result"
    }
   ],
   "source": [
    "bv_point = 1000\n",
    "fc = 300000\n",
    "cm = fc / bv_point\n",
    "answer = f\"Profit before tax contributed before 1,001st unit is sold is ${cm:.0f}\"\n",
    "answer"
   ]
  },
  {
   "cell_type": "markdown",
   "metadata": {},
   "source": [
    "-------------------"
   ]
  },
  {
   "cell_type": "markdown",
   "metadata": {},
   "source": [
    "### Question # 658 | Blueprint Area: 5 B i : Cost Measurement Concepts, Methods and Techniques\n",
    "\n",
    "Brewster Co. has the following financial information:\n",
    "\n",
    "Fixed costs \t$ 20,000\n",
    "\n",
    "Variable costs \t     60%\n",
    "\n",
    "Sales price \t    $ 50\n",
    "\n",
    "What amount of sales is required for Brewster to achieve a 15% return on sales?"
   ]
  },
  {
   "cell_type": "code",
   "execution_count": 12,
   "metadata": {},
   "outputs": [
    {
     "data": {
      "text/plain": [
       "'The amount of sales required to achive a 15% on sales is 80,000'"
      ]
     },
     "execution_count": 12,
     "metadata": {},
     "output_type": "execute_result"
    }
   ],
   "source": [
    "rate_of_return = .15\n",
    "variable_cost = .40\n",
    "fixed_cost = 20000\n",
    "\n",
    "answer = fixed_cost / (variable_cost - rate_of_return)\n",
    "answer = f\"The amount of sales required to achive a 15% on sales is ${answer:,.0f}\"\n",
    "answer"
   ]
  },
  {
   "cell_type": "markdown",
   "metadata": {},
   "source": [
    "Explanation:  The sales required must cover a 15% on sales, fixed costs and a 40% of sales variable costs.  Algebraically this could be achived as:\n",
    "\n",
    "15% Sales = 40% Sales - 20000\n",
    "\n",
    "-25 Sales = -20000\n",
    "\n",
    "Sales = 80,000"
   ]
  },
  {
   "cell_type": "markdown",
   "metadata": {},
   "source": [
    "-----------------"
   ]
  },
  {
   "cell_type": "markdown",
   "metadata": {},
   "source": [
    "### Question # 2710 | Blueprint Area: 5 B i : Cost Measurement Concepts, Methods and Techniques\n",
    "\n",
    "As part of the annual budgeting process, Fair Theatre Company compiled the following information for its next play production:\n",
    "\n",
    "Fixed expenses \t         $48,000\n",
    "\n",
    "Variable expenses \t      $10 per ticket\n",
    "\n",
    "Ticket price              $16\n",
    "\n",
    "How many tickets would Fair need to sell for the play's run to obtain a $24,000 profit?"
   ]
  },
  {
   "cell_type": "code",
   "execution_count": 5,
   "metadata": {},
   "outputs": [
    {
     "data": {
      "text/plain": [
       "'In order to obtain a profit of $24,000 Fair needs to sell 12,000 units.'"
      ]
     },
     "execution_count": 5,
     "metadata": {},
     "output_type": "execute_result"
    }
   ],
   "source": [
    "bv = Cvp_calc(16, 10, 48000)\n",
    "bev_units = bv.bev_units_ni(24000)\n",
    "answer = f'In order to obtain a profit of $24,000, Fair needs to sell {bev_units:,.0f} units.'\n",
    "answer"
   ]
  },
  {
   "cell_type": "markdown",
   "metadata": {},
   "source": [
    "-----------------"
   ]
  },
  {
   "cell_type": "markdown",
   "metadata": {},
   "source": [
    "### Question # 656 | Blueprint Area: 5 B i : Cost Measurement Concepts, Methods and Techniques\n",
    "\n",
    "Del Co. has fixed costs of $100,000 and break-even sales of $800,000. What is its projected profit at $1,200,000 sales?"
   ]
  },
  {
   "cell_type": "code",
   "execution_count": 11,
   "metadata": {},
   "outputs": [
    {
     "data": {
      "text/plain": [
       "'The projected profit at 1,200,000 sales is $50,000'"
      ]
     },
     "execution_count": 11,
     "metadata": {},
     "output_type": "execute_result"
    }
   ],
   "source": [
    "fc = 100000\n",
    "bev_sales = 800000\n",
    "sales = 1200000\n",
    "cm = fc #cm equals fixed costs at break even\n",
    "cm_pct = cm / bev_sales\n",
    "projected_profit = (sales * cm_pct) - fc\n",
    "answer = f'The projected profit at $1,200,000 sales is ${projected_profit:,.0f}'\n",
    "answer"
   ]
  },
  {
   "cell_type": "markdown",
   "metadata": {},
   "source": [
    "----------------------"
   ]
  },
  {
   "cell_type": "markdown",
   "metadata": {},
   "source": [
    "# Additional Managerial Accounting Problems"
   ]
  },
  {
   "cell_type": "markdown",
   "metadata": {},
   "source": [
    "### Question # 932 | Blueprint Area: 5 D ii : Forecasting and Projection\n",
    "\n",
    "Kane Corp. estimates that it would incur a $100,000 cost to prepare a bid proposal. Kane estimates also that there would be an 80% chance of being awarded the contract if the bid is low enough to result in a net profit of $250,000. What is the expected value of the payoff?"
   ]
  },
  {
   "cell_type": "code",
   "execution_count": 9,
   "metadata": {},
   "outputs": [
    {
     "data": {
      "text/html": [
       "<div>\n",
       "<style scoped>\n",
       "    .dataframe tbody tr th:only-of-type {\n",
       "        vertical-align: middle;\n",
       "    }\n",
       "\n",
       "    .dataframe tbody tr th {\n",
       "        vertical-align: top;\n",
       "    }\n",
       "\n",
       "    .dataframe thead th {\n",
       "        text-align: right;\n",
       "    }\n",
       "</style>\n",
       "<table border=\"1\" class=\"dataframe\">\n",
       "  <thead>\n",
       "    <tr style=\"text-align: right;\">\n",
       "      <th></th>\n",
       "      <th>Value</th>\n",
       "      <th>Probability</th>\n",
       "      <th>Expected</th>\n",
       "    </tr>\n",
       "  </thead>\n",
       "  <tbody>\n",
       "    <tr>\n",
       "      <th>0</th>\n",
       "      <td>-100000</td>\n",
       "      <td>0.2</td>\n",
       "      <td>-20000.0</td>\n",
       "    </tr>\n",
       "    <tr>\n",
       "      <th>1</th>\n",
       "      <td>250000</td>\n",
       "      <td>0.8</td>\n",
       "      <td>200000.0</td>\n",
       "    </tr>\n",
       "  </tbody>\n",
       "</table>\n",
       "</div>"
      ],
      "text/plain": [
       "    Value  Probability  Expected\n",
       "0 -100000          0.2  -20000.0\n",
       "1  250000          0.8  200000.0"
      ]
     },
     "execution_count": 9,
     "metadata": {},
     "output_type": "execute_result"
    }
   ],
   "source": [
    "exp_value = pd.DataFrame([[-100000, .20],\n",
    "                            [250000, .80]],\n",
    "                            columns = [\"Value\", \"Probability\"])\n",
    "\n",
    "exp_value[\"Expected\"] = exp_value[\"Value\"] * exp_value[\"Probability\"]\n",
    "exp_value\n"
   ]
  },
  {
   "cell_type": "code",
   "execution_count": 10,
   "metadata": {},
   "outputs": [
    {
     "data": {
      "text/plain": [
       "'The expected value of the payoff is $180,000'"
      ]
     },
     "execution_count": 10,
     "metadata": {},
     "output_type": "execute_result"
    }
   ],
   "source": [
    "answer = f'The expected value of the payoff is ${exp_value[\"Expected\"].sum():,.0f}'\n",
    "answer"
   ]
  },
  {
   "cell_type": "markdown",
   "metadata": {},
   "source": [
    "------------------------------------------------"
   ]
  },
  {
   "cell_type": "markdown",
   "metadata": {},
   "source": [
    "### Question # 3048 | Blueprint Area: 5 B i : Cost Measurement Concepts, Methods and Techniques\n",
    "\n",
    "Total costs for the production of 10,000 units were $100,000. Variable costs were $60,000. If 15,000 units were produced, what would be the total costs?"
   ]
  },
  {
   "cell_type": "code",
   "execution_count": 16,
   "metadata": {},
   "outputs": [
    {
     "data": {
      "text/plain": [
       "'If 15,000 units were produced, the total cost would be $130,000'"
      ]
     },
     "execution_count": 16,
     "metadata": {},
     "output_type": "execute_result"
    }
   ],
   "source": [
    "normal_units = 10000\n",
    "normal_cost = 100000\n",
    "cost_per_unit = normal_cost / normal_units\n",
    "\n",
    "normal_variable_costs = 60000\n",
    "var_cost_per_unit = normal_variable_costs / normal_units\n",
    "fixed_costs = normal_cost - normal_variable_costs\n",
    "\n",
    "total_units = 15000\n",
    "variable_costs = total_units * var_cost_per_unit\n",
    "\n",
    "answer = variable_costs + fixed_costs\n",
    "answer = f'If 15,000 units were produced, total cost would be ${answer:,.0f}'\n",
    "answer"
   ]
  },
  {
   "cell_type": "code",
   "execution_count": null,
   "metadata": {},
   "outputs": [],
   "source": []
  }
 ],
 "metadata": {
  "kernelspec": {
   "display_name": "Python 3",
   "language": "python",
   "name": "python3"
  },
  "language_info": {
   "codemirror_mode": {
    "name": "ipython",
    "version": 3
   },
   "file_extension": ".py",
   "mimetype": "text/x-python",
   "name": "python",
   "nbconvert_exporter": "python",
   "pygments_lexer": "ipython3",
   "version": "3.10.8"
  },
  "orig_nbformat": 4,
  "vscode": {
   "interpreter": {
    "hash": "767d51c1340bd893661ea55ea3124f6de3c7a262a8b4abca0554b478b1e2ff90"
   }
  }
 },
 "nbformat": 4,
 "nbformat_minor": 2
}
