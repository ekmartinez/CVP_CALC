{
 "cells": [
  {
   "cell_type": "code",
   "execution_count": 1,
   "metadata": {},
   "outputs": [],
   "source": [
    "from cvp_calc import Cvp_calc\n",
    "import pandas as pd"
   ]
  },
  {
   "cell_type": "markdown",
   "metadata": {},
   "source": [
    "Question # 3010 | Blueprint Area: 5 B i : Cost Measurement Concepts, Methods and Techniques\n",
    "\n",
    "MultiCo has the following sales mix:"
   ]
  },
  {
   "cell_type": "code",
   "execution_count": 2,
   "metadata": {},
   "outputs": [
    {
     "data": {
      "text/html": [
       "<div>\n",
       "<style scoped>\n",
       "    .dataframe tbody tr th:only-of-type {\n",
       "        vertical-align: middle;\n",
       "    }\n",
       "\n",
       "    .dataframe tbody tr th {\n",
       "        vertical-align: top;\n",
       "    }\n",
       "\n",
       "    .dataframe thead th {\n",
       "        text-align: right;\n",
       "    }\n",
       "</style>\n",
       "<table border=\"1\" class=\"dataframe\">\n",
       "  <thead>\n",
       "    <tr style=\"text-align: right;\">\n",
       "      <th></th>\n",
       "      <th>Product</th>\n",
       "      <th>Sales price</th>\n",
       "      <th>Variable costs</th>\n",
       "      <th>Fixed costs</th>\n",
       "      <th>%Sold</th>\n",
       "    </tr>\n",
       "  </thead>\n",
       "  <tbody>\n",
       "    <tr>\n",
       "      <th>0</th>\n",
       "      <td>Shoes</td>\n",
       "      <td>100</td>\n",
       "      <td>25</td>\n",
       "      <td>40</td>\n",
       "      <td>0.3</td>\n",
       "    </tr>\n",
       "    <tr>\n",
       "      <th>1</th>\n",
       "      <td>Swimsuits</td>\n",
       "      <td>50</td>\n",
       "      <td>10</td>\n",
       "      <td>20</td>\n",
       "      <td>0.5</td>\n",
       "    </tr>\n",
       "    <tr>\n",
       "      <th>2</th>\n",
       "      <td>Hats</td>\n",
       "      <td>40</td>\n",
       "      <td>5</td>\n",
       "      <td>5</td>\n",
       "      <td>0.2</td>\n",
       "    </tr>\n",
       "  </tbody>\n",
       "</table>\n",
       "</div>"
      ],
      "text/plain": [
       "     Product  Sales price  Variable costs  Fixed costs  %Sold\n",
       "0      Shoes          100              25           40    0.3\n",
       "1  Swimsuits           50              10           20    0.5\n",
       "2       Hats           40               5            5    0.2"
      ]
     },
     "execution_count": 2,
     "metadata": {},
     "output_type": "execute_result"
    }
   ],
   "source": [
    "sales_mix = pd.DataFrame([[\"Shoes\", 100, 25, 40, .30],\n",
    "                        [\"Swimsuits\", 50, 10, 20, .50],\n",
    "                        [\"Hats\", 40, 5, 5, .20]],\n",
    "                        columns=[\"Product\", \"Sales price\", \"Variable costs\", \"Fixed costs\", \"%Sold\"])\n",
    "sales_mix\n"
   ]
  },
  {
   "cell_type": "markdown",
   "metadata": {},
   "source": [
    "What amount is MultiCo's weighted average contribution margin per unit?"
   ]
  },
  {
   "cell_type": "code",
   "execution_count": 3,
   "metadata": {},
   "outputs": [
    {
     "data": {
      "text/plain": [
       "'The weighted average contribution margin per unit is $49.50'"
      ]
     },
     "execution_count": 3,
     "metadata": {},
     "output_type": "execute_result"
    }
   ],
   "source": [
    "sales_mix[\"CM\"] = (sales_mix[\"Sales price\"] - sales_mix[\"Variable costs\"]) * sales_mix[\"%Sold\"] \n",
    "result = sales_mix[\"CM\"].sum()\n",
    "result = f'The weighted average contribution margin per unit is ${result:.2f}'\n",
    "result\n"
   ]
  },
  {
   "cell_type": "markdown",
   "metadata": {},
   "source": [
    "----------------------------------------------------------------------------------------------------------------------------"
   ]
  },
  {
   "cell_type": "markdown",
   "metadata": {},
   "source": [
    "Question # 627 | Blueprint Area: 5 B i : Cost Measurement Concepts, Methods and Techniques\n",
    "\n",
    "Slick Co. sells radios for $30 each. Fixed expenses total $15,000. Variable expenses are $20 per unit. What total dollar amount must Slick sell to break even?"
   ]
  },
  {
   "cell_type": "code",
   "execution_count": 6,
   "metadata": {},
   "outputs": [
    {
     "data": {
      "text/plain": [
       "'The total dollar amount that Slick must sell to break even is $45,000'"
      ]
     },
     "execution_count": 6,
     "metadata": {},
     "output_type": "execute_result"
    }
   ],
   "source": [
    "bv_dollars = Cvp_calc(30, 20, 15000)\n",
    "answer = bv_dollars.break_even_dollars()\n",
    "answer = f'The total dollar amount that Slick must sell to break even is ${answer:,.0f}'\n",
    "answer\n"
   ]
  },
  {
   "cell_type": "code",
   "execution_count": null,
   "metadata": {},
   "outputs": [],
   "source": []
  },
  {
   "cell_type": "code",
   "execution_count": null,
   "metadata": {},
   "outputs": [],
   "source": []
  }
 ],
 "metadata": {
  "kernelspec": {
   "display_name": "Python 3",
   "language": "python",
   "name": "python3"
  },
  "language_info": {
   "codemirror_mode": {
    "name": "ipython",
    "version": 3
   },
   "file_extension": ".py",
   "mimetype": "text/x-python",
   "name": "python",
   "nbconvert_exporter": "python",
   "pygments_lexer": "ipython3",
   "version": "3.10.8"
  },
  "orig_nbformat": 4,
  "vscode": {
   "interpreter": {
    "hash": "767d51c1340bd893661ea55ea3124f6de3c7a262a8b4abca0554b478b1e2ff90"
   }
  }
 },
 "nbformat": 4,
 "nbformat_minor": 2
}
